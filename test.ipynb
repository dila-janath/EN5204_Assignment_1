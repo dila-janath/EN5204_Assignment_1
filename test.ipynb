{
 "cells": [
  {
   "cell_type": "code",
   "execution_count": 6,
   "metadata": {},
   "outputs": [
    {
     "name": "stdout",
     "output_type": "stream",
     "text": [
      "11\n"
     ]
    }
   ],
   "source": [
    "import cv2 as cv\n",
    "import cv2 as cv\n",
    "import numpy as np\n",
    "import matplotlib . pyplot as plt\n",
    "\n",
    "c = np.array([(50,50), (50,100),(150,255),(150,150),(255,255)])\n",
    "t1 = np.linspace(0, c[0,1], c[0,0]+1).astype('uint8')\n",
    "print(len(t1))\n",
    "t2 = np.linspace(c[0,1] + 1, c[1,1], c[1,0] - c[0,0]).astype('uint8')\n",
    "print(len(t2))\n",
    "t3 = np.linspace(c[1,1] + 1, c[2,1], c[2,0] - c[1,0]).astype('uint8')\n",
    "print(len(t3))\n",
    "t4 = np.linspace(c[2,1] + 1, c[3,1], c[3,0] - c[2,0]).astype('uint8')\n",
    "print(len(t4))\n",
    "t5 = np.linspace(c[3,1] + 1, 255, 255 - c[3,0]).astype('uint8')\n",
    "print(len(t5))\n",
    "transform = np.concatenate((t1, t2), axis=0).astype('uint8')\n",
    "transform = np.concatenate((transform, t3), axis=0).astype('uint8')\n",
    "transform = np.concatenate((transform, t4), axis=0).astype('uint8')\n",
    "transform = np.concatenate((transform, t5), axis=0).astype('uint8')\n",
    "print(len(transform))\n",
    "fig , ax = plt . subplots()\n",
    "ax.plot ( transform )\n",
    "ax . set_xlabel( r'Input , $f (\\mathbf { x } ) $')\n",
    "ax . set_ylabel('Output , $\\mathrm{T } [ f ( \\mathbf { x } ) ]$')\n",
    "ax . set_xlim(0 ,255)\n",
    "ax . set_ylim(0 ,255)\n",
    "ax . set_aspect ('equal')\n",
    "plt.savefig('transform1.jpg')\n",
    "plt.show( )\n",
    "im_orig = cv.imread('emma_gray.jpeg', cv.IMREAD_GRAYSCALE)\n",
    "cv . namedWindow( \" Image \" , cv .WINDOW_AUTOSIZE)\n",
    "cv . imshow( \" Image \" , im_orig )\n",
    "cv . waitKey (0)\n",
    "image_transformed = cv.LUT(im_orig ,transform )\n",
    "cv . imshow( \" Image \" , image_transformed )\n",
    "cv . waitKey (0)\n",
    "cv.destroyAllWindows()\n",
    "\n",
    "\n",
    "\n",
    "\n",
    "\n"
   ]
  },
  {
   "cell_type": "code",
   "execution_count": 1,
   "metadata": {},
   "outputs": [
    {
     "ename": "",
     "evalue": "",
     "output_type": "error",
     "traceback": [
      "\u001b[1;31mThe Kernel crashed while executing code in the the current cell or a previous cell. Please review the code in the cell(s) to identify a possible cause of the failure. Click <a href='https://aka.ms/vscodeJupyterKernelCrash'>here</a> for more info. View Jupyter <a href='command:jupyter.viewOutput'>log</a> for further details."
     ]
    }
   ],
   "source": [
    "import cv2 as cv\n",
    "import numpy as np\n",
    "import matplotlib.pyplot as plt\n",
    "\n",
    "im = cv.imread('cat.jpeg', cv.IMREAD_COLOR)\n",
    "im = cv.cvtColor(im, cv.COLOR_BGR2LAB)\n",
    "\n",
    "im.show()"
   ]
  }
 ],
 "metadata": {
  "kernelspec": {
   "display_name": "cv",
   "language": "python",
   "name": "python3"
  },
  "language_info": {
   "codemirror_mode": {
    "name": "ipython",
    "version": 3
   },
   "file_extension": ".py",
   "mimetype": "text/x-python",
   "name": "python",
   "nbconvert_exporter": "python",
   "pygments_lexer": "ipython3",
   "version": "3.11.1"
  },
  "orig_nbformat": 4,
  "vscode": {
   "interpreter": {
    "hash": "1df3a8821d9572c43dc1566313a4726de4fef46bb238b5a108cd916e42e22d30"
   }
  }
 },
 "nbformat": 4,
 "nbformat_minor": 2
}
